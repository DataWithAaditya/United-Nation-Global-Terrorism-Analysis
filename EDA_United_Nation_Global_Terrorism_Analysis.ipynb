{
  "nbformat": 4,
  "nbformat_minor": 0,
  "metadata": {
    "colab": {
      "private_outputs": true,
      "provenance": [],
      "collapsed_sections": [
        "vncDsAP0Gaoa",
        "FJNUwmbgGyua",
        "w6K7xa23Elo4",
        "yQaldy8SH6Dl",
        "PH-0ReGfmX4f",
        "mDgbUHAGgjLW",
        "O_i_v8NEhb9l",
        "HhfV-JJviCcP",
        "Y3lxredqlCYt",
        "3RnN4peoiCZX",
        "x71ZqKXriCWQ",
        "7hBIi_osiCS2",
        "JlHwYmJAmNHm",
        "35m5QtbWiB9F",
        "PoPl-ycgm1ru",
        "H0kj-8xxnORC",
        "nA9Y7ga8ng1Z",
        "PBTbrJXOngz2",
        "u3PMJOP6ngxN",
        "dauF4eBmngu3",
        "bKJF3rekwFvQ",
        "MSa1f5Uengrz",
        "GF8Ens_Soomf",
        "0wOQAZs5pc--",
        "K5QZ13OEpz2H",
        "lQ7QKXXCp7Bj",
        "448CDAPjqfQr",
        "KSlN3yHqYklG",
        "t6dVpIINYklI",
        "ijmpgYnKYklI",
        "-JiQyfWJYklI",
        "EM7whBJCYoAo",
        "fge-S5ZAYoAp",
        "85gYPyotYoAp",
        "RoGjAbkUYoAp",
        "4Of9eVA-YrdM",
        "iky9q4vBYrdO",
        "F6T5p64dYrdO",
        "y-Ehk30pYrdP",
        "bamQiAODYuh1",
        "QHF8YVU7Yuh3",
        "GwzvFGzlYuh3",
        "qYpmQ266Yuh3",
        "OH-pJp9IphqM",
        "bbFf2-_FphqN",
        "_ouA3fa0phqN",
        "Seke61FWphqN",
        "PIIx-8_IphqN",
        "t27r6nlMphqO",
        "r2jJGEOYphqO",
        "b0JNsNcRphqO",
        "BZR9WyysphqO",
        "jj7wYXLtphqO",
        "eZrbJ2SmphqO",
        "rFu4xreNphqO",
        "YJ55k-q6phqO",
        "gCFgpxoyphqP",
        "OVtJsKN_phqQ",
        "lssrdh5qphqQ",
        "U2RJ9gkRphqQ",
        "1M8mcRywphqQ",
        "tgIPom80phqQ",
        "JMzcOPDDphqR",
        "x-EpHcCOp1ci",
        "X_VqEhTip1ck",
        "8zGJKyg5p1ck",
        "PVzmfK_Ep1ck",
        "n3dbpmDWp1ck",
        "ylSl6qgtp1ck",
        "ZWILFDl5p1ck",
        "M7G43BXep1ck",
        "Ag9LCva-p1cl",
        "E6MkPsBcp1cl",
        "2cELzS2fp1cl",
        "3MPXvC8up1cl",
        "NC_X3p0fY2L0",
        "UV0SzAkaZNRQ",
        "YPEH6qLeZNRQ",
        "q29F0dvdveiT",
        "EXh0U9oCveiU",
        "22aHeOlLveiV",
        "JcMwzZxoAimU",
        "8G2x9gOozGDZ",
        "gCX9965dhzqZ",
        "gIfDvo9L0UH2"
      ],
      "include_colab_link": true
    },
    "kernelspec": {
      "name": "python3",
      "display_name": "Python 3"
    },
    "language_info": {
      "name": "python"
    }
  },
  "cells": [
    {
      "cell_type": "markdown",
      "metadata": {
        "id": "view-in-github",
        "colab_type": "text"
      },
      "source": [
        "<a href=\"https://colab.research.google.com/github/DataWithAaditya/United-Nation-Global-Terrorism-Analysis/blob/main/EDA_United_Nation_Global_Terrorism_Analysis.ipynb\" target=\"_parent\"><img src=\"https://colab.research.google.com/assets/colab-badge.svg\" alt=\"Open In Colab\"/></a>"
      ]
    },
    {
      "cell_type": "markdown",
      "source": [
        "# **Project Name**    - United Nation Global Terrorism Analysis\n",
        "\n"
      ],
      "metadata": {
        "id": "vncDsAP0Gaoa"
      }
    },
    {
      "cell_type": "markdown",
      "source": [
        "##### **Project Type**    - EDA\n",
        "##### **Contribution**    - Individual"
      ],
      "metadata": {
        "id": "beRrZCGUAJYm"
      }
    },
    {
      "cell_type": "markdown",
      "source": [
        "# **Project Summary -**"
      ],
      "metadata": {
        "id": "FJNUwmbgGyua"
      }
    },
    {
      "cell_type": "markdown",
      "source": [
        "####***Objective:***\n",
        "The goal of this Exploratory Data Analysis (EDA) project is to analyze and uncover insights from global terrorism incidents recorded in the Global Terrorism Database (GTD). This analysis will help understand trends in terrorism, the most affected regions, attack methods, casualty rates, and other key patterns.\n",
        "\n",
        "By conducting a structured EDA, this project aims to provide meaningful insights that could support security agencies, policymakers, and researchers in making informed decisions.\n",
        "\n",
        "#### ***Key Steps in the Project:***\n",
        "1. Data Collection & Understanding\n",
        "2. Exploratory Data Analysis (EDA) Using the UBM Rule\n",
        "3. Data Visualization & Insights\n",
        "4. Deployment-Ready Code\n",
        "5. Final Presentation & Report\n",
        "\n",
        "####***Expected Outcome:***\n",
        "This project will deliver data-driven insights into terrorism trends, identifying key risk factors, vulnerable regions, and evolving attack patterns. The findings will be valuable for:\n",
        "- Policymakers – Formulating counter-terrorism policies.\n",
        "- Security Agencies – Strengthening security measures in high-risk areas.\n",
        "- Researchers & Analysts – Understanding global terrorism patterns."
      ],
      "metadata": {
        "id": "F6v_1wHtG2nS"
      }
    },
    {
      "cell_type": "markdown",
      "source": [
        "# **GitHub Link -**"
      ],
      "metadata": {
        "id": "w6K7xa23Elo4"
      }
    },
    {
      "cell_type": "markdown",
      "source": [
        "GitHub Link: https://github.com/DataWithAaditya/United-Nation-Global-Terrorism-Analysis/tree/main"
      ],
      "metadata": {
        "id": "h1o69JH3Eqqn"
      }
    },
    {
      "cell_type": "markdown",
      "source": [
        "# **Problem Statement**\n"
      ],
      "metadata": {
        "id": "yQaldy8SH6Dl"
      }
    },
    {
      "cell_type": "markdown",
      "source": [
        "####***Problem Statement:***\n",
        "Terrorism remains one of the most critical global challenges, causing widespread loss of life, economic damage, and geopolitical instability. Governments and international organizations continuously strive to understand terrorism patterns to develop effective countermeasures. However, due to the complexity and vast amount of data, deriving actionable insights remains a challenge.\n",
        "\n",
        "This project aims to analyze historical terrorism data from the Global Terrorism Database (GTD) to answer key questions such as:\n",
        "\n",
        "- Which regions and countries are most affected by terrorism?\n",
        "- What are the most common attack methods and target types?\n",
        "- How have terrorist activities evolved over time?\n",
        "- What is the impact of terrorism in terms of casualties and property damage?\n",
        "- Are there any patterns that indicate possible future risks?\n",
        "\n",
        "By conducting Exploratory Data Analysis (EDA), this project seeks to uncover hidden trends and relationships, providing valuable insights for security agencies, policymakers, and researchers to make data-driven decisions."
      ],
      "metadata": {
        "id": "DpeJGUA3kjGy"
      }
    },
    {
      "cell_type": "markdown",
      "source": [
        "#### **Define Your Business Objective?**"
      ],
      "metadata": {
        "id": "PH-0ReGfmX4f"
      }
    },
    {
      "cell_type": "markdown",
      "source": [
        "####***Business Objective:***\n",
        "Analyze global terrorism trends to identify high-risk regions, attack methods, and evolving patterns, supporting better counter-terrorism strategies and decision-making."
      ],
      "metadata": {
        "id": "PhDvGCAqmjP1"
      }
    },
    {
      "cell_type": "markdown",
      "source": [
        "# **General Guidelines** : -  "
      ],
      "metadata": {
        "id": "mDgbUHAGgjLW"
      }
    },
    {
      "cell_type": "markdown",
      "source": [
        "1.   Well-structured, formatted, and commented code is required.\n",
        "2.   Exception Handling, Production Grade Code & Deployment Ready Code will be a plus. Those students will be awarded some additional credits.\n",
        "     \n",
        "     The additional credits will have advantages over other students during Star Student selection.\n",
        "       \n",
        "             [ Note: - Deployment Ready Code is defined as, the whole .ipynb notebook should be executable in one go\n",
        "                       without a single error logged. ]\n",
        "\n",
        "3.   Each and every logic should have proper comments.\n",
        "4. You may add as many number of charts you want. Make Sure for each and every chart the following format should be answered.\n",
        "        \n",
        "\n",
        "```\n",
        "# Chart visualization code\n",
        "```\n",
        "            \n",
        "\n",
        "*   Why did you pick the specific chart?\n",
        "*   What is/are the insight(s) found from the chart?\n",
        "* Will the gained insights help creating a positive business impact?\n",
        "Are there any insights that lead to negative growth? Justify with specific reason.\n",
        "\n",
        "5. You have to create at least 20 logical & meaningful charts having important insights.\n",
        "\n",
        "\n",
        "[ Hints : - Do the Vizualization in  a structured way while following \"UBM\" Rule.\n",
        "\n",
        "U - Univariate Analysis,\n",
        "\n",
        "B - Bivariate Analysis (Numerical - Categorical, Numerical - Numerical, Categorical - Categorical)\n",
        "\n",
        "M - Multivariate Analysis\n",
        " ]\n",
        "\n",
        "\n",
        "\n"
      ],
      "metadata": {
        "id": "ZrxVaUj-hHfC"
      }
    },
    {
      "cell_type": "markdown",
      "source": [
        "# ***Let's Begin !***"
      ],
      "metadata": {
        "id": "O_i_v8NEhb9l"
      }
    },
    {
      "cell_type": "markdown",
      "source": [
        "## ***1. Know Your Data***"
      ],
      "metadata": {
        "id": "HhfV-JJviCcP"
      }
    },
    {
      "cell_type": "markdown",
      "source": [
        "### Import Libraries"
      ],
      "metadata": {
        "id": "Y3lxredqlCYt"
      }
    },
    {
      "cell_type": "code",
      "source": [
        "# Import Libraries\n",
        "import pandas as pd\n",
        "import numpy as np\n",
        "import matplotlib.pyplot as plt\n",
        "%matplotlib inline\n",
        "import seaborn as sns\n",
        "import warnings\n",
        "warnings.filterwarnings('ignore')"
      ],
      "metadata": {
        "id": "M8Vqi-pPk-HR"
      },
      "execution_count": null,
      "outputs": []
    },
    {
      "cell_type": "markdown",
      "source": [
        "### Dataset Loading"
      ],
      "metadata": {
        "id": "3RnN4peoiCZX"
      }
    },
    {
      "cell_type": "code",
      "source": [
        "# Mount Drive\n",
        "from google.colab import drive\n",
        "drive.mount('/content/drive')\n"
      ],
      "metadata": {
        "id": "4CkvbW_SlZ_R"
      },
      "execution_count": null,
      "outputs": []
    },
    {
      "cell_type": "code",
      "source": [
        "# Load Dataset\n",
        "df = pd.read_csv('/content/drive/My Drive/Colab Notebooks/Global Terrorism Data.csv', encoding='latin1')\n"
      ],
      "metadata": {
        "id": "L8erEixQoraa"
      },
      "execution_count": null,
      "outputs": []
    },
    {
      "cell_type": "markdown",
      "source": [
        "### Dataset First View"
      ],
      "metadata": {
        "id": "x71ZqKXriCWQ"
      }
    },
    {
      "cell_type": "code",
      "source": [
        "# Display top few rows\n",
        "df.head()"
      ],
      "metadata": {
        "id": "LWNFOSvLl09H"
      },
      "execution_count": null,
      "outputs": []
    },
    {
      "cell_type": "markdown",
      "source": [
        "### Dataset Rows & Columns count"
      ],
      "metadata": {
        "id": "7hBIi_osiCS2"
      }
    },
    {
      "cell_type": "code",
      "source": [
        "# Dataset Rows & Columns count\n",
        "rows, columns = df.shape\n",
        "print(f\"Number of rows: {rows}\")\n",
        "print(f\"Number of columns: {columns}\")"
      ],
      "metadata": {
        "id": "Kllu7SJgmLij"
      },
      "execution_count": null,
      "outputs": []
    },
    {
      "cell_type": "markdown",
      "source": [
        "### Dataset Information"
      ],
      "metadata": {
        "id": "JlHwYmJAmNHm"
      }
    },
    {
      "cell_type": "code",
      "source": [
        "# Dataset Info\n",
        "df.info()"
      ],
      "metadata": {
        "id": "e9hRXRi6meOf"
      },
      "execution_count": null,
      "outputs": []
    },
    {
      "cell_type": "markdown",
      "source": [
        "#### Duplicate Values"
      ],
      "metadata": {
        "id": "35m5QtbWiB9F"
      }
    },
    {
      "cell_type": "code",
      "source": [
        "# Dataset Duplicate Value Count\n",
        "duplicate_count = df.duplicated().sum()\n",
        "print(f\"Number of duplicate value: {duplicate_count}\")"
      ],
      "metadata": {
        "id": "1sLdpKYkmox0"
      },
      "execution_count": null,
      "outputs": []
    },
    {
      "cell_type": "markdown",
      "source": [
        "#### Missing Values/Null Values"
      ],
      "metadata": {
        "id": "PoPl-ycgm1ru"
      }
    },
    {
      "cell_type": "code",
      "source": [
        "# Missing Values/Null Values Count\n",
        "missing_values_count = df.isnull().sum()\n",
        "\n",
        "print(\"Missing Values Count for Each Column:\")\n",
        "print(missing_values_count)"
      ],
      "metadata": {
        "id": "GgHWkxvamxVg"
      },
      "execution_count": null,
      "outputs": []
    },
    {
      "cell_type": "code",
      "source": [
        "# Visualizing the missing values\n",
        "missing_data = df.isnull().sum()\n",
        "missing_cols = missing_data[missing_data > 0].index  # Select only columns with missing values\n",
        "\n",
        "if len(missing_cols) > 0:\n",
        "    plt.figure(figsize=(12, 6))\n",
        "    sns.heatmap(df[missing_cols].isnull(), cmap=\"coolwarm\", cbar=False)\n",
        "    plt.title(\"Missing Values Heatmap (Filtered)\")\n",
        "    plt.show()\n",
        "else:\n",
        "    print(\"No missing values found in the dataset.\")"
      ],
      "metadata": {
        "id": "hLXwmGzpRUg7"
      },
      "execution_count": null,
      "outputs": []
    },
    {
      "cell_type": "markdown",
      "source": [
        "####***Why Picked:***\n",
        "\n",
        "- It visually highlights missing data across rows and columns, making patterns easy to spot.\n",
        "\n",
        "####***Insights Found:***\n",
        "\n",
        "- Columns like approxdate and related have significant missing data, requiring attention.\n",
        "\n",
        "####***Business Impact:***\n",
        "\n",
        "- Positive: Helps improve data quality by addressing missing values.\n",
        "- Negative: Missing key data could lead to incomplete or biased insights,\n",
        "affecting decisions.\n",
        "\n",
        "This visualization aids in ensuring high-quality data for better decision-making."
      ],
      "metadata": {
        "id": "yLy0QqfI3KG5"
      }
    },
    {
      "cell_type": "markdown",
      "source": [
        "### What did you know about your dataset?"
      ],
      "metadata": {
        "id": "H0kj-8xxnORC"
      }
    },
    {
      "cell_type": "markdown",
      "source": [
        "The Global Terrorism Database (GTD) contains worldwide terrorism incidents from 1970 onward, covering attack types, locations, casualties, weapons, and terrorist groups. It helps analyze trends, most affected regions, common attack methods, and impact."
      ],
      "metadata": {
        "id": "gfoNAAC-nUe_"
      }
    },
    {
      "cell_type": "markdown",
      "source": [
        "## ***2. Understanding Your Variables***"
      ],
      "metadata": {
        "id": "nA9Y7ga8ng1Z"
      }
    },
    {
      "cell_type": "code",
      "source": [
        "# Dataset Columns\n",
        "df.columns"
      ],
      "metadata": {
        "id": "j7xfkqrt5Ag5"
      },
      "execution_count": null,
      "outputs": []
    },
    {
      "cell_type": "code",
      "source": [
        "# Dataset Describe\n",
        "df.describe()"
      ],
      "metadata": {
        "id": "DnOaZdaE5Q5t"
      },
      "execution_count": null,
      "outputs": []
    },
    {
      "cell_type": "markdown",
      "source": [
        "### Variables Description"
      ],
      "metadata": {
        "id": "PBTbrJXOngz2"
      }
    },
    {
      "cell_type": "markdown",
      "source": [
        "Here’s a detailed description of all key variables in your Global Terrorism Database (GTD):\n",
        "\n",
        "####***Date & Location:***\n",
        "\n",
        "**eventid-** Unique ID for each terrorist incident.\n",
        "\n",
        "**iyear-**\tYear when the attack occurred.\n",
        "\n",
        "**imonth-**\tMonth of the attack (1-12).\n",
        "\n",
        "**iday-**\tDay of the attack (1-31).\n",
        "\n",
        "**country_txt-**\tCountry where the attack took place.\n",
        "\n",
        "**region_txt-**\tRegion where the attack took place.\n",
        "\n",
        "**provstate-**\tState/Province of the attack location.\n",
        "\n",
        "**city-**\tCity where the attack occurred.\n",
        "\n",
        "**latitude-**\tLatitude of the attack location.\n",
        "\n",
        "**longitude-**\tLongitude of the attack location.\n",
        "\n",
        "####***Attack Details:***\n",
        "\n",
        "**attacktype1_txt-**\tPrimary type of attack (e.g., bombing, assassination).\n",
        "\n",
        "**attacktype2_txt-**\tSecondary attack type (if applicable).\n",
        "\n",
        "**attacktype3_txt-**\tTertiary attack type (if applicable).\n",
        "\n",
        "**targtype1_txt-**\tPrimary target type (e.g., military, civilians).\n",
        "\n",
        "**targsubtype1_txt-**\tMore specific target type (e.g., police, religious figures).\n",
        "\n",
        "**gname-**\tName of the terrorist group responsible for the attack.\n",
        "\n",
        "**gsubname-**\tSubgroup of the terrorist organization.\n",
        "\n",
        "**motive-**\tStated or suspected motive of the attack.\n",
        "\n",
        "####***Casualties & Damage:***\n",
        "\n",
        "**nkill-**\tNumber of people killed.\n",
        "\n",
        "**nkillus-**\tNumber of U.S. citizens killed.\n",
        "\n",
        "**nwound-**\tNumber of people wounded.\n",
        "\n",
        "**nwoundus-**\tNumber of U.S. citizens wounded.\n",
        "\n",
        "**propextent_txt-**\tExtent of property damage (e.g., minor, major, destroyed).\n",
        "\n",
        "\n",
        "####*** Incident Outcome:***\n",
        "\n",
        "**success-**\tWhether the attack was successful (1 = Yes, 0 = No).\n",
        "\n",
        "**suicide-**\tWhether it was a suicide attack (1 = Yes, 0 = No).\n",
        "\n",
        "**ransom-**\tWhether a ransom was demanded (1 = Yes, 0 = No).\n",
        "\n",
        "**claimed-**\tWhether a terrorist group claimed responsibility (1 = Yes, 0 = No).\n",
        "\n",
        "\n",
        "####***Weapons & Tactics:***\n",
        "\n",
        "**weaptype1_txt-**\tPrimary weapon type (e.g., firearms, explosives).\n",
        "\n",
        "**weapsubtype1_txt-**\tMore specific weapon category.\n",
        "\n",
        "**weapdetail-**\tAdditional details on the weapon used.\n"
      ],
      "metadata": {
        "id": "aJV4KIxSnxay"
      }
    },
    {
      "cell_type": "markdown",
      "source": [
        "### Check Unique Values for each variable."
      ],
      "metadata": {
        "id": "u3PMJOP6ngxN"
      }
    },
    {
      "cell_type": "code",
      "source": [
        "# Check Unique Values for each variable.\n",
        "for column in df.columns:\n",
        "    unique_values = df[column].nunique()\n",
        "    print(f\"{column}: {unique_values} unique values\")"
      ],
      "metadata": {
        "id": "zms12Yq5n-jE"
      },
      "execution_count": null,
      "outputs": []
    },
    {
      "cell_type": "markdown",
      "source": [
        "## Detect Outliers"
      ],
      "metadata": {
        "id": "xQ-BIbrdn_fz"
      }
    },
    {
      "cell_type": "code",
      "source": [
        "# List of numerical columns to check for outliers\n",
        "num_cols = ['nkill', 'nwound']  # Add more columns as needed\n",
        "\n",
        "# Define subplot grid dynamically\n",
        "num_plots = len(num_cols)  # Number of boxplots\n",
        "cols_per_row = 3  # Adjust this for better spacing\n",
        "rows = (num_plots // cols_per_row) + (num_plots % cols_per_row > 0)  # Auto-adjust rows\n",
        "\n",
        "plt.figure(figsize=(cols_per_row * 4, rows * 5))  # Adjust figure size dynamically\n",
        "\n",
        "for i, col in enumerate(num_cols, 1):\n",
        "    plt.subplot(rows, cols_per_row, i)\n",
        "    sns.boxplot(y=df[col], color='red')\n",
        "    plt.title(f\"Boxplot of {col}\")\n",
        "    plt.ylabel(col)\n",
        "    plt.yscale(\"log\")  # Log scale to handle extreme outliers\n",
        "\n",
        "plt.tight_layout()\n",
        "plt.show()\n"
      ],
      "metadata": {
        "id": "9eML_oZfoIlr"
      },
      "execution_count": null,
      "outputs": []
    },
    {
      "cell_type": "markdown",
      "source": [
        "Why Boxplot?\n",
        "- Detects outliers effectively.\n",
        "- Handles skewed data.\n",
        "- Quick comparison across features.\n",
        "\n",
        "Insights:\n",
        "- Extreme outliers exist (high casualties in some attacks).\n",
        "- Most incidents have low casualties.\n",
        "- Possible data quality issues (check extreme values)."
      ],
      "metadata": {
        "id": "ailwmKiTc8cK"
      }
    },
    {
      "cell_type": "markdown",
      "source": [
        "## Remove Outliers Using IQR Method"
      ],
      "metadata": {
        "id": "FsFdImsCosMC"
      }
    },
    {
      "cell_type": "code",
      "source": [
        "# Function to remove outliers using IQR\n",
        "def remove_outliers(df, column):\n",
        "    Q1 = df[column].quantile(0.25)\n",
        "    Q3 = df[column].quantile(0.75)\n",
        "    IQR = Q3 - Q1\n",
        "    lower_bound = Q1 - 1.5 * IQR\n",
        "    upper_bound = Q3 + 1.5 * IQR\n",
        "    return df[(df[column] >= lower_bound) & (df[column] <= upper_bound)]\n",
        "\n",
        "# Removing outliers for all numerical columns\n",
        "for col in num_cols:\n",
        "    df = remove_outliers(df, col)\n",
        "\n",
        "print(\"Outliers removed successfully!\")"
      ],
      "metadata": {
        "id": "ZnnuvTGio1dz"
      },
      "execution_count": null,
      "outputs": []
    },
    {
      "cell_type": "markdown",
      "source": [
        "### After handling outliers!"
      ],
      "metadata": {
        "id": "et1LSNwydQ0j"
      }
    },
    {
      "cell_type": "code",
      "source": [
        "# List of numerical columns to check for outliers after handling\n",
        "\n",
        "num_cols = ['nkill', 'nwound']  # Add more columns as needed\n",
        "\n",
        "# Define subplot grid dynamically\n",
        "num_plots = len(num_cols)  # Number of boxplots\n",
        "cols_per_row = 3  # Adjust this for better spacing\n",
        "rows = (num_plots // cols_per_row) + (num_plots % cols_per_row > 0)  # Auto-adjust rows\n",
        "\n",
        "plt.figure(figsize=(cols_per_row * 4, rows * 5))  # Adjust figure size dynamically\n",
        "\n",
        "for i, col in enumerate(num_cols, 1):\n",
        "    plt.subplot(rows, cols_per_row, i)\n",
        "    sns.boxplot(y=df[col], color='red')\n",
        "    plt.title(f\"Boxplot of {col}\")\n",
        "    plt.ylabel(col)\n",
        "    plt.yscale(\"log\")  # Log scale to handle extreme outliers\n",
        "\n",
        "plt.tight_layout()\n",
        "plt.show()"
      ],
      "metadata": {
        "id": "93tJ9v9ldWmp"
      },
      "execution_count": null,
      "outputs": []
    },
    {
      "cell_type": "markdown",
      "source": [
        "## 3. ***Data Wrangling***"
      ],
      "metadata": {
        "id": "dauF4eBmngu3"
      }
    },
    {
      "cell_type": "markdown",
      "source": [
        "### Data Wrangling Code"
      ],
      "metadata": {
        "id": "bKJF3rekwFvQ"
      }
    },
    {
      "cell_type": "code",
      "source": [
        "# Write your code to make your dataset analysis ready.\n",
        "\n",
        "# Display initial shape of dataset\n",
        "print(f\"Original Dataset Shape: {df.shape}\")\n",
        "\n",
        "#Remove Irrelevant Columns\n",
        "columns_to_drop = [\n",
        "    'eventid', 'scite1', 'scite2', 'scite3', 'dbsource',  # Source columns\n",
        "    'summary', 'provstate', 'alternative_txt', 'motive',  # Text-based columns (not useful for EDA)\n",
        "    'propcomment', 'addnotes'  # Free-text columns\n",
        "]\n",
        "df.drop(columns=columns_to_drop, axis=1, inplace=True)\n",
        "\n",
        "#Handle Missing Values\n",
        "df.fillna({\n",
        "    'nkill': 0,\n",
        "    'nwound': 0,\n",
        "    'weaptype1_txt': 'Unknown',\n",
        "    'gname': 'Unknown',\n",
        "    'city': 'Unknown',\n",
        "    'targtype1_txt': 'Unknown'\n",
        "}, inplace=True)\n",
        "\n",
        "# Fill numeric missing values with 0\n",
        "df.fillna(0, inplace=True)\n",
        "\n",
        "#Convert Data Types\n",
        "df['iyear'] = df['iyear'].astype(int)  # Year as integer\n",
        "df['success'] = df['success'].astype(bool)  # Convert to boolean\n",
        "df['suicide'] = df['suicide'].astype(bool)  # Convert to boolean\n",
        "\n",
        "#Remove Duplicates (if any)\n",
        "df.drop_duplicates(inplace=True)\n",
        "\n",
        "#Create New Features\n",
        "df['total_casualties'] = df['nkill'] + df['nwound']\n",
        "\n",
        "#Save the Cleaned Dataset\n",
        "df.to_csv(\"Cleaned_Global_Terrorism_Data.csv\", index=False)\n",
        "\n",
        "# Display final shape after cleaning\n",
        "print(f\"Cleaned Dataset Shape: {df.shape}\")"
      ],
      "metadata": {
        "id": "wk-9a2fpoLcV"
      },
      "execution_count": null,
      "outputs": []
    },
    {
      "cell_type": "markdown",
      "source": [
        "Explanation:\n",
        "\n",
        "- Boxplots help visualize extreme values.\n",
        "- Any data points outside the whiskers (beyond 1.5 times the IQR) are considered outliers."
      ],
      "metadata": {
        "id": "-iq4rOJUolyb"
      }
    },
    {
      "cell_type": "markdown",
      "source": [
        "### What all manipulations have you done and insights you found?"
      ],
      "metadata": {
        "id": "MSa1f5Uengrz"
      }
    },
    {
      "cell_type": "markdown",
      "source": [
        "###Data Manipulations Done & Insights Found\n",
        "\n",
        "####***Data Manipulations:***\n",
        "\n",
        "1. Dropped irrelevant columns (e.g., eventid, summary, provstate, etc.) to remove unnecessary text fields.\n",
        "2. Handled missing values by filling numeric columns (nkill, nwound) with 0 and categorical columns (gname, city, weaptype1_txt) with 'Unknown'.\n",
        "3. Converted data types (iyear as integer, success & suicide as boolean) for better analysis.\n",
        "4. Removed duplicate rows to maintain data integrity.\n",
        "5. Created a new feature: total_casualties = nkill + nwound, which helps in understanding attack severity.\n",
        "6. Saved the cleaned dataset for further analysis and visualization.\n",
        "7. Detect Outliers and fix them successfully.\n",
        "\n",
        "####***Insights Found:***\n",
        "\n",
        "1. Yearly Trend: The number of terrorist attacks has increased significantly in recent decades.\n",
        "2. Most Affected Countries: Some countries, like Iraq, Afghanistan, and Pakistan, have the highest number of attacks.\n",
        "3. Deadliest Attacks: A few incidents have caused extremely high casualties, affecting global security.\n",
        "4. Most Used Weapons: Explosives and firearms are the most commonly used weapons in attacks.\n",
        "5. Primary Targets: Government, military, and civilians are the most targeted groups."
      ],
      "metadata": {
        "id": "LbyXE7I1olp8"
      }
    },
    {
      "cell_type": "markdown",
      "source": [
        "## ***4. Data Vizualization, Storytelling & Experimenting with charts : Understand the relationships between variables***"
      ],
      "metadata": {
        "id": "GF8Ens_Soomf"
      }
    },
    {
      "cell_type": "markdown",
      "source": [
        "#### Chart - 1: Count of Terrorist Attacks by Year. (Univariate Analysis)"
      ],
      "metadata": {
        "id": "0wOQAZs5pc--"
      }
    },
    {
      "cell_type": "code",
      "source": [
        "# Plot the number of terrorist attacks per year\n",
        "plt.figure(figsize=(8, 6))\n",
        "sns.lineplot(x=df['iyear'].value_counts().index, y=df['iyear'].value_counts().values, marker='o', color='red')\n",
        "plt.xlabel(\"Year\")\n",
        "plt.ylabel(\"Number of Attacks\")\n",
        "plt.title(\"Trend of Terrorist Attacks Over the Years\")\n",
        "plt.grid(True)\n",
        "plt.show()"
      ],
      "metadata": {
        "id": "7v_ESjsspbW7"
      },
      "execution_count": null,
      "outputs": []
    },
    {
      "cell_type": "markdown",
      "source": [
        "##### 1. Why did you pick the specific chart?"
      ],
      "metadata": {
        "id": "K5QZ13OEpz2H"
      }
    },
    {
      "cell_type": "markdown",
      "source": [
        "**Answer:** Line charts show trends over time."
      ],
      "metadata": {
        "id": "XESiWehPqBRc"
      }
    },
    {
      "cell_type": "markdown",
      "source": [
        "##### 2. What is/are the insight(s) found from the chart?"
      ],
      "metadata": {
        "id": "lQ7QKXXCp7Bj"
      }
    },
    {
      "cell_type": "markdown",
      "source": [
        "**Answer:** Terrorist attacks increased sharply after 2000, peaking in 2014-2015."
      ],
      "metadata": {
        "id": "C_j1G7yiqdRP"
      }
    },
    {
      "cell_type": "markdown",
      "source": [
        "##### 3. Will the gained insights help creating a positive business impact?\n",
        "Are there any insights that lead to negative growth? Justify with specific reason."
      ],
      "metadata": {
        "id": "448CDAPjqfQr"
      }
    },
    {
      "cell_type": "markdown",
      "source": [
        "**Answer-**\n",
        "1. Impact: Helps governments allocate resources for counter-terrorism strategies.\n",
        "\n",
        "2. Negative growth: Unchecked terrorism increases global instability."
      ],
      "metadata": {
        "id": "3cspy4FjqxJW"
      }
    },
    {
      "cell_type": "markdown",
      "source": [
        "#### Chart - 2: Most Affected Countries"
      ],
      "metadata": {
        "id": "KSlN3yHqYklG"
      }
    },
    {
      "cell_type": "code",
      "source": [
        "# Plot the top 10 most affected countries\n",
        "plt.figure(figsize=(12, 6))\n",
        "sns.barplot(x=df['country_txt'].value_counts().head(10).values, y=df['country_txt'].value_counts().head(10).index, palette=\"Reds_r\")\n",
        "plt.xlabel(\"Number of Attacks\")\n",
        "plt.ylabel(\"Country\")\n",
        "plt.title(\"Top 10 Most Affected Countries by Terrorist Attacks\")\n",
        "plt.show()"
      ],
      "metadata": {
        "id": "R4YgtaqtYklH"
      },
      "execution_count": null,
      "outputs": []
    },
    {
      "cell_type": "markdown",
      "source": [
        "##### 1. Why did you pick the specific chart?"
      ],
      "metadata": {
        "id": "t6dVpIINYklI"
      }
    },
    {
      "cell_type": "markdown",
      "source": [
        "**Answer-** Bar charts compare categorical data effectively."
      ],
      "metadata": {
        "id": "5aaW0BYyYklI"
      }
    },
    {
      "cell_type": "markdown",
      "source": [
        "##### 2. What is/are the insight(s) found from the chart?"
      ],
      "metadata": {
        "id": "ijmpgYnKYklI"
      }
    },
    {
      "cell_type": "markdown",
      "source": [
        "**Answer-** Iraq, Afghanistan, and Pakistan have the most attacks."
      ],
      "metadata": {
        "id": "PSx9atu2YklI"
      }
    },
    {
      "cell_type": "markdown",
      "source": [
        "##### 3. Will the gained insights help creating a positive business impact?\n",
        "Are there any insights that lead to negative growth? Justify with specific reason."
      ],
      "metadata": {
        "id": "-JiQyfWJYklI"
      }
    },
    {
      "cell_type": "markdown",
      "source": [
        "**Answer-**\n",
        "1. Impact: Helps prioritize global security efforts.\n",
        "2. Negative growth: Affects economic stability and tourism."
      ],
      "metadata": {
        "id": "BcBbebzrYklV"
      }
    },
    {
      "cell_type": "markdown",
      "source": [
        "#### Chart - 3: Deadliest Terrorist Groups. (Bivariate Analysis)"
      ],
      "metadata": {
        "id": "EM7whBJCYoAo"
      }
    },
    {
      "cell_type": "code",
      "source": [
        "# Calculate total casualties for each terrorist group\n",
        "df_filtered = df[df['gname'] != \"Unknown\"]\n",
        "top_groups_filtered = df_filtered.groupby('gname')['casualties'].sum().sort_values(ascending=False).head(10)\n",
        "\n",
        "# Plot top terrorist groups by casualties\n",
        "plt.figure(figsize=(12, 6))\n",
        "sns.barplot(x=top_groups_filtered.values, y=top_groups_filtered.index, palette=\"magma\")\n",
        "plt.xlabel(\"Total Casualties (Killed + Wounded)\")\n",
        "plt.ylabel(\"Terrorist Group\")\n",
        "plt.title(\"Top 10 Deadliest Identified Terrorist Groups\")\n",
        "plt.show()"
      ],
      "metadata": {
        "id": "t6GMdE67YoAp"
      },
      "execution_count": null,
      "outputs": []
    },
    {
      "cell_type": "markdown",
      "source": [
        "##### 1. Why did you pick the specific chart?"
      ],
      "metadata": {
        "id": "fge-S5ZAYoAp"
      }
    },
    {
      "cell_type": "markdown",
      "source": [
        "**Answer-** Bar Chart Shows the impact of different terrorist groups."
      ],
      "metadata": {
        "id": "5dBItgRVYoAp"
      }
    },
    {
      "cell_type": "markdown",
      "source": [
        "##### 2. What is/are the insight(s) found from the chart?"
      ],
      "metadata": {
        "id": "85gYPyotYoAp"
      }
    },
    {
      "cell_type": "markdown",
      "source": [
        "**Answer-**  Taliban, Shining Path (SL), and Al-Shabaab rank among the deadliest groups, showing their significant impact."
      ],
      "metadata": {
        "id": "4jstXR6OYoAp"
      }
    },
    {
      "cell_type": "markdown",
      "source": [
        "##### 3. Will the gained insights help creating a positive business impact?\n",
        "Are there any insights that lead to negative growth? Justify with specific reason."
      ],
      "metadata": {
        "id": "RoGjAbkUYoAp"
      }
    },
    {
      "cell_type": "markdown",
      "source": [
        "**Answer-**\n",
        "1. Impact: Helps in counter-terrorism strategies.\n",
        "2. Negative growth: Higher casualties increase fear and instability."
      ],
      "metadata": {
        "id": "zfJ8IqMcYoAp"
      }
    },
    {
      "cell_type": "markdown",
      "source": [
        "#### Chart - 4: Relationship Between Attack Type & Number of Attacks"
      ],
      "metadata": {
        "id": "4Of9eVA-YrdM"
      }
    },
    {
      "cell_type": "code",
      "source": [
        "# Show distribution of attack types\n",
        "attack_types = df['attacktype1_txt'].value_counts().head(5)\n",
        "plt.figure(figsize=(8, 8))\n",
        "plt.pie(attack_types, labels=attack_types.index, autopct='%1.1f%%', colors=['red', 'blue', 'green', 'purple', 'orange'])\n",
        "plt.title(\"Most Common Types of Terrorist Attacks\")\n",
        "plt.show()"
      ],
      "metadata": {
        "id": "irlUoxc8YrdO"
      },
      "execution_count": null,
      "outputs": []
    },
    {
      "cell_type": "markdown",
      "source": [
        "##### 1. Why did you pick the specific chart?"
      ],
      "metadata": {
        "id": "iky9q4vBYrdO"
      }
    },
    {
      "cell_type": "markdown",
      "source": [
        "**Answer-** Pie charts show proportions clearly"
      ],
      "metadata": {
        "id": "aJRCwT6DYrdO"
      }
    },
    {
      "cell_type": "markdown",
      "source": [
        "##### 2. What is/are the insight(s) found from the chart?"
      ],
      "metadata": {
        "id": "F6T5p64dYrdO"
      }
    },
    {
      "cell_type": "markdown",
      "source": [
        "**Answer-** Bombings are the most common type of attack."
      ],
      "metadata": {
        "id": "Xx8WAJvtYrdO"
      }
    },
    {
      "cell_type": "markdown",
      "source": [
        "##### 3. Will the gained insights help creating a positive business impact?\n",
        "Are there any insights that lead to negative growth? Justify with specific reason."
      ],
      "metadata": {
        "id": "y-Ehk30pYrdP"
      }
    },
    {
      "cell_type": "markdown",
      "source": [
        "**Answer-**\n",
        "1. Impact: Helps in preventive security measures.\n",
        "2. Negative growth: Bombings cause mass casualties and economic damage."
      ],
      "metadata": {
        "id": "jLNxxz7MYrdP"
      }
    },
    {
      "cell_type": "markdown",
      "source": [
        "#### Chart - 5: Relationship Between Target Type & Number of Attacks"
      ],
      "metadata": {
        "id": "bamQiAODYuh1"
      }
    },
    {
      "cell_type": "code",
      "source": [
        "# Plot most targeted groups in terrorist attacks\n",
        "top_targets = df['targtype1_txt'].value_counts().head(10)\n",
        "plt.figure(figsize=(12, 6))\n",
        "sns.barplot(x=top_targets.values, y=top_targets.index, palette=\"coolwarm\")\n",
        "plt.xlabel(\"Number of Attacks\")\n",
        "plt.ylabel(\"Target Type\")\n",
        "plt.title(\"Top 10 Most Targeted Groups in Terrorist Attacks\")\n",
        "plt.show()"
      ],
      "metadata": {
        "id": "TIJwrbroYuh3"
      },
      "execution_count": null,
      "outputs": []
    },
    {
      "cell_type": "markdown",
      "source": [
        "##### 1. Why did you pick the specific chart?"
      ],
      "metadata": {
        "id": "QHF8YVU7Yuh3"
      }
    },
    {
      "cell_type": "markdown",
      "source": [
        "**Answer-** Clearly shows the most affected groups."
      ],
      "metadata": {
        "id": "dcxuIMRPYuh3"
      }
    },
    {
      "cell_type": "markdown",
      "source": [
        "##### 2. What is/are the insight(s) found from the chart?"
      ],
      "metadata": {
        "id": "GwzvFGzlYuh3"
      }
    },
    {
      "cell_type": "markdown",
      "source": [
        "**Answer-** Civilians and government officials are most targeted."
      ],
      "metadata": {
        "id": "uyqkiB8YYuh3"
      }
    },
    {
      "cell_type": "markdown",
      "source": [
        "##### 3. Will the gained insights help creating a positive business impact?\n",
        "Are there any insights that lead to negative growth? Justify with specific reason."
      ],
      "metadata": {
        "id": "qYpmQ266Yuh3"
      }
    },
    {
      "cell_type": "markdown",
      "source": [
        "**Answer-**\n",
        "1. Impact: Helps law enforcement protect vulnerable groups.\n",
        "2. Negative growth: Instills fear and disrupts governance."
      ],
      "metadata": {
        "id": "_WtzZ_hCYuh4"
      }
    },
    {
      "cell_type": "markdown",
      "source": [
        "#### Chart - 6: Relationship Between Weapon Type & Number of Attacks"
      ],
      "metadata": {
        "id": "OH-pJp9IphqM"
      }
    },
    {
      "cell_type": "code",
      "source": [
        "# Show most used weapon types in terrorist attacks\n",
        "weapon_types = df['weaptype1_txt'].value_counts().head(5)\n",
        "plt.figure(figsize=(8, 8))\n",
        "plt.pie(weapon_types, labels=weapon_types.index, autopct='%1.1f%%', colors=['cyan', 'purple', 'orange', 'red', 'green'], wedgeprops={'edgecolor': 'black'})\n",
        "plt.gca().add_artist(plt.Circle((0, 0), 0.5, color='white'))  # Donut effect\n",
        "plt.title(\"Most Common Types of Weapons Used in Terrorism\")\n",
        "plt.show()"
      ],
      "metadata": {
        "id": "kuRf4wtuphqN"
      },
      "execution_count": null,
      "outputs": []
    },
    {
      "cell_type": "markdown",
      "source": [
        "##### 1. Why did you pick the specific chart?"
      ],
      "metadata": {
        "id": "bbFf2-_FphqN"
      }
    },
    {
      "cell_type": "markdown",
      "source": [
        "**Answer-** Highlights weapon preferences in attacks."
      ],
      "metadata": {
        "id": "loh7H2nzphqN"
      }
    },
    {
      "cell_type": "markdown",
      "source": [
        "##### 2. What is/are the insight(s) found from the chart?"
      ],
      "metadata": {
        "id": "_ouA3fa0phqN"
      }
    },
    {
      "cell_type": "markdown",
      "source": [
        "**Answer-** Explosives and firearms are the most used."
      ],
      "metadata": {
        "id": "VECbqPI7phqN"
      }
    },
    {
      "cell_type": "markdown",
      "source": [
        "##### 3. Will the gained insights help creating a positive business impact?\n",
        "Are there any insights that lead to negative growth? Justify with specific reason."
      ],
      "metadata": {
        "id": "Seke61FWphqN"
      }
    },
    {
      "cell_type": "markdown",
      "source": [
        "**Answer-**\n",
        "1. Impact: Helps in weapon tracking policies.\n",
        "2. Negative growth: Easy weapon access worsens terrorism."
      ],
      "metadata": {
        "id": "DW4_bGpfphqN"
      }
    },
    {
      "cell_type": "markdown",
      "source": [
        "#### Chart - 7: Pairplot of Casualties, Attacks, and Year. (Multivariate Analysis)"
      ],
      "metadata": {
        "id": "PIIx-8_IphqN"
      }
    },
    {
      "cell_type": "code",
      "source": [
        "# Pairplot to analyze relationships between variables\n",
        "sns.pairplot(df[['iyear', 'nkill', 'nwound']], diag_kind='kde', corner=True)\n",
        "plt.show()"
      ],
      "metadata": {
        "id": "lqAIGUfyphqO"
      },
      "execution_count": null,
      "outputs": []
    },
    {
      "cell_type": "markdown",
      "source": [
        "##### 1. Why did you pick the specific chart?"
      ],
      "metadata": {
        "id": "t27r6nlMphqO"
      }
    },
    {
      "cell_type": "markdown",
      "source": [
        "**Answer-** Shows correlations between multiple variables."
      ],
      "metadata": {
        "id": "iv6ro40sphqO"
      }
    },
    {
      "cell_type": "markdown",
      "source": [
        "##### 2. What is/are the insight(s) found from the chart?"
      ],
      "metadata": {
        "id": "r2jJGEOYphqO"
      }
    },
    {
      "cell_type": "markdown",
      "source": [
        "**Answer-** Recent years show higher casualties."
      ],
      "metadata": {
        "id": "Po6ZPi4hphqO"
      }
    },
    {
      "cell_type": "markdown",
      "source": [
        "##### 3. Will the gained insights help creating a positive business impact?\n",
        "Are there any insights that lead to negative growth? Justify with specific reason."
      ],
      "metadata": {
        "id": "b0JNsNcRphqO"
      }
    },
    {
      "cell_type": "markdown",
      "source": [
        "**Answer-**\n",
        "1. Impact: Justifies stronger counter-terrorism policies.\n",
        "2. Negative growth: Indicates worsening security conditions."
      ],
      "metadata": {
        "id": "xvSq8iUTphqO"
      }
    },
    {
      "cell_type": "markdown",
      "source": [
        "#### Chart - 8: Relationship Between Attack Type, Target Type, and Casualties"
      ],
      "metadata": {
        "id": "BZR9WyysphqO"
      }
    },
    {
      "cell_type": "code",
      "source": [
        "!pip install squarify"
      ],
      "metadata": {
        "id": "eZBosNbbzwNy"
      },
      "execution_count": null,
      "outputs": []
    },
    {
      "cell_type": "code",
      "source": [
        "import squarify\n",
        "\n",
        "# Aggregate data for top attack types and target types\n",
        "df['attack_target'] = df['attacktype1_txt'] + ' - ' + df['targtype1_txt']\n",
        "attack_target_counts = df.groupby('attack_target')['nkill'].sum().reset_index()\n",
        "\n",
        "# Sort by casualties and pick top 10 categories\n",
        "top_attacks = attack_target_counts.sort_values(by='nkill', ascending=False).head(10)\n",
        "\n",
        "# Define figure size\n",
        "plt.figure(figsize=(12, 6))\n",
        "\n",
        "# Create treemap\n",
        "squarify.plot(\n",
        "    sizes=top_attacks['nkill'],\n",
        "    label=top_attacks['attack_target'],\n",
        "    alpha=0.7,\n",
        "    text_kwargs={'fontsize': 10}\n",
        ")\n",
        "\n",
        "# Formatting\n",
        "plt.title(\"Top 10 Attack Type and Target Combinations by Casualties\", fontsize=14)\n",
        "plt.axis(\"off\")  # Hide axis\n",
        "\n",
        "# Show plot\n",
        "plt.show()"
      ],
      "metadata": {
        "id": "TdPTWpAVphqO"
      },
      "execution_count": null,
      "outputs": []
    },
    {
      "cell_type": "markdown",
      "source": [
        "##### 1. Why did you pick the specific chart?"
      ],
      "metadata": {
        "id": "jj7wYXLtphqO"
      }
    },
    {
      "cell_type": "markdown",
      "source": [
        "**Answer-** Shows hierarchical relationships."
      ],
      "metadata": {
        "id": "Ob8u6rCTphqO"
      }
    },
    {
      "cell_type": "markdown",
      "source": [
        "##### 2. What is/are the insight(s) found from the chart?"
      ],
      "metadata": {
        "id": "eZrbJ2SmphqO"
      }
    },
    {
      "cell_type": "markdown",
      "source": [
        "**Answer-** Bombings on civilians cause the highest casualties."
      ],
      "metadata": {
        "id": "mZtgC_hjphqO"
      }
    },
    {
      "cell_type": "markdown",
      "source": [
        "##### 3. Will the gained insights help creating a positive business impact?\n",
        "Are there any insights that lead to negative growth? Justify with specific reason."
      ],
      "metadata": {
        "id": "rFu4xreNphqO"
      }
    },
    {
      "cell_type": "markdown",
      "source": [
        "**Answer-**\n",
        "1. Impact: Helps security agencies focus on high-risk attack types.\n",
        "2. Negative growth: Leads to increased fear among civilians."
      ],
      "metadata": {
        "id": "ey_0qi68phqO"
      }
    },
    {
      "cell_type": "markdown",
      "source": [
        "#### Chart - 9: Distribution Plot of Casualties"
      ],
      "metadata": {
        "id": "YJ55k-q6phqO"
      }
    },
    {
      "cell_type": "code",
      "source": [
        "# Box plot to compare casualties across regions.\n",
        "plt.figure(figsize=(12, 6))\n",
        "sns.boxplot(x='region_txt', y='casualties', data=df)\n",
        "plt.xticks(rotation=90)\n",
        "plt.xlabel(\"Region\")\n",
        "plt.ylabel(\"Total Casualties\")\n",
        "plt.title(\"Casualties Distribution Across Regions\")\n",
        "plt.show()"
      ],
      "metadata": {
        "id": "B2aS4O1ophqO"
      },
      "execution_count": null,
      "outputs": []
    },
    {
      "cell_type": "markdown",
      "source": [
        "##### 1. Why did you pick the specific chart?"
      ],
      "metadata": {
        "id": "gCFgpxoyphqP"
      }
    },
    {
      "cell_type": "markdown",
      "source": [
        "**Answer-** To compare how different regions are impacted by terrorism."
      ],
      "metadata": {
        "id": "TVxDimi2phqP"
      }
    },
    {
      "cell_type": "markdown",
      "source": [
        "##### 2. What is/are the insight(s) found from the chart?"
      ],
      "metadata": {
        "id": "OVtJsKN_phqQ"
      }
    },
    {
      "cell_type": "markdown",
      "source": [
        "**Answer-**\n",
        "- Some regions have higher median casualties, indicating more severe attacks.\n",
        "- Outliers show exceptionally high-casualty incidents in certain regions.\n"
      ],
      "metadata": {
        "id": "ngGi97qjphqQ"
      }
    },
    {
      "cell_type": "markdown",
      "source": [
        "##### 3. Will the gained insights help creating a positive business impact?\n",
        "Are there any insights that lead to negative growth? Justify with specific reason."
      ],
      "metadata": {
        "id": "lssrdh5qphqQ"
      }
    },
    {
      "cell_type": "markdown",
      "source": [
        "**Answer-**\n",
        "- Business Impact:\n",
        "Helps in designing targeted security strategies.\n",
        "- Negative Growth Insights?\n",
        "High-casualty regions may experience lower foreign investments and slower economic growth."
      ],
      "metadata": {
        "id": "tBpY5ekJphqQ"
      }
    },
    {
      "cell_type": "markdown",
      "source": [
        "#### Chart - 10: Attack Types vs Regions"
      ],
      "metadata": {
        "id": "U2RJ9gkRphqQ"
      }
    },
    {
      "cell_type": "code",
      "source": [
        "# Heatmap to see how different attack types affect various regions.\n",
        "plt.figure(figsize=(12, 6))\n",
        "pivot_table = df.pivot_table(index='attacktype1_txt', columns='region_txt', values='casualties', aggfunc='sum')\n",
        "sns.heatmap(pivot_table, cmap='coolwarm', annot=True, fmt=\".0f\")\n",
        "plt.xlabel(\"Region\")\n",
        "plt.ylabel(\"Attack Type\")\n",
        "plt.title(\"Heatmap of Attack Types Across Regions\")\n",
        "plt.show()"
      ],
      "metadata": {
        "id": "GM7a4YP4phqQ"
      },
      "execution_count": null,
      "outputs": []
    },
    {
      "cell_type": "markdown",
      "source": [
        "##### 1. Why did you pick the specific chart?"
      ],
      "metadata": {
        "id": "1M8mcRywphqQ"
      }
    },
    {
      "cell_type": "markdown",
      "source": [
        "**Answer-** To identify which attack types are most common in different regions."
      ],
      "metadata": {
        "id": "8agQvks0phqQ"
      }
    },
    {
      "cell_type": "markdown",
      "source": [
        "##### 2. What is/are the insight(s) found from the chart?"
      ],
      "metadata": {
        "id": "tgIPom80phqQ"
      }
    },
    {
      "cell_type": "markdown",
      "source": [
        "**Answer-**\n",
        "- Certain attack types dominate specific regions.\n",
        "- Suicide bombings and armed assaults cause high casualties in some areas."
      ],
      "metadata": {
        "id": "Qp13pnNzphqQ"
      }
    },
    {
      "cell_type": "markdown",
      "source": [
        "##### 3. Will the gained insights help creating a positive business impact?\n",
        "Are there any insights that lead to negative growth? Justify with specific reason."
      ],
      "metadata": {
        "id": "JMzcOPDDphqR"
      }
    },
    {
      "cell_type": "markdown",
      "source": [
        "**Answer-**\n",
        "- Business Impact:\n",
        "Helps governments and organizations focus on high-risk attack types.\n",
        "- Negative Growth Insights?\n",
        "If a particular region experiences repeated high-casualty attacks, it may face economic decline."
      ],
      "metadata": {
        "id": "R4Ka1PC2phqR"
      }
    },
    {
      "cell_type": "markdown",
      "source": [
        "#### Chart - 11: Casualties vs Year"
      ],
      "metadata": {
        "id": "x-EpHcCOp1ci"
      }
    },
    {
      "cell_type": "code",
      "source": [
        "# Scatter plot to observe trends in casualties over time.\n",
        "plt.figure(figsize=(12, 6))\n",
        "sns.scatterplot(x=df['iyear'], y=df['casualties'], alpha=0.5, color='red')\n",
        "plt.xlabel(\"Year\")\n",
        "plt.ylabel(\"Total Casualties\")\n",
        "plt.title(\"Casualties Over the Years\")\n",
        "plt.show()"
      ],
      "metadata": {
        "id": "mAQTIvtqp1cj"
      },
      "execution_count": null,
      "outputs": []
    },
    {
      "cell_type": "markdown",
      "source": [
        "##### 1. Why did you pick the specific chart?"
      ],
      "metadata": {
        "id": "X_VqEhTip1ck"
      }
    },
    {
      "cell_type": "markdown",
      "source": [
        "**Answer-** To identify trends in casualties across different years."
      ],
      "metadata": {
        "id": "-vsMzt_np1ck"
      }
    },
    {
      "cell_type": "markdown",
      "source": [
        "##### 2. What is/are the insight(s) found from the chart?"
      ],
      "metadata": {
        "id": "8zGJKyg5p1ck"
      }
    },
    {
      "cell_type": "markdown",
      "source": [
        "**Answer-**\n",
        "- Some years have significantly higher casualties, indicating periods of heightened terrorist activity.\n",
        "- If casualties decrease over time, it suggests improved counter-terrorism measures."
      ],
      "metadata": {
        "id": "ZYdMsrqVp1ck"
      }
    },
    {
      "cell_type": "markdown",
      "source": [
        "##### 3. Will the gained insights help creating a positive business impact?\n",
        "Are there any insights that lead to negative growth? Justify with specific reason."
      ],
      "metadata": {
        "id": "PVzmfK_Ep1ck"
      }
    },
    {
      "cell_type": "markdown",
      "source": [
        "**Answer-**\n",
        "- Business Impact:\n",
        "Countries can use this insight to assess policy effectiveness.\n",
        "- Negative Growth Insights?\n",
        "Years with high casualties may cause economic instability and global security concerns."
      ],
      "metadata": {
        "id": "druuKYZpp1ck"
      }
    },
    {
      "cell_type": "markdown",
      "source": [
        "#### Chart - 12: Casualties by Region"
      ],
      "metadata": {
        "id": "n3dbpmDWp1ck"
      }
    },
    {
      "cell_type": "code",
      "source": [
        "# Box plot to compare casualties across regions.\n",
        "plt.figure(figsize=(12, 6))\n",
        "sns.boxplot(x='region_txt', y='casualties', data=df)\n",
        "plt.xticks(rotation=90)\n",
        "plt.xlabel(\"Region\")\n",
        "plt.ylabel(\"Total Casualties\")\n",
        "plt.title(\"Casualties Distribution Across Regions\")\n",
        "plt.show()"
      ],
      "metadata": {
        "id": "bwevp1tKp1ck"
      },
      "execution_count": null,
      "outputs": []
    },
    {
      "cell_type": "markdown",
      "source": [
        "##### 1. Why did you pick the specific chart?"
      ],
      "metadata": {
        "id": "ylSl6qgtp1ck"
      }
    },
    {
      "cell_type": "markdown",
      "source": [
        "**Answer-** To compare how different regions are impacted by terrorism."
      ],
      "metadata": {
        "id": "m2xqNkiQp1ck"
      }
    },
    {
      "cell_type": "markdown",
      "source": [
        "##### 2. What is/are the insight(s) found from the chart?"
      ],
      "metadata": {
        "id": "ZWILFDl5p1ck"
      }
    },
    {
      "cell_type": "markdown",
      "source": [
        "**Answer-**\n",
        "- Some regions have higher median casualties, indicating more severe attacks.\n",
        "- Outliers show exceptionally high-casualty incidents in certain regions.\n"
      ],
      "metadata": {
        "id": "x-lUsV2mp1ck"
      }
    },
    {
      "cell_type": "markdown",
      "source": [
        "##### 3. Will the gained insights help creating a positive business impact?\n",
        "Are there any insights that lead to negative growth? Justify with specific reason."
      ],
      "metadata": {
        "id": "M7G43BXep1ck"
      }
    },
    {
      "cell_type": "markdown",
      "source": [
        "**Answer-**\n",
        "- Business Impact:\n",
        "Helps in designing targeted security strategies.\n",
        "- Negative Growth Insights?\n",
        "High-casualty regions may experience lower foreign investments and slower economic growth."
      ],
      "metadata": {
        "id": "5wwDJXsLp1cl"
      }
    },
    {
      "cell_type": "markdown",
      "source": [
        "#### Chart - 13"
      ],
      "metadata": {
        "id": "Ag9LCva-p1cl"
      }
    },
    {
      "cell_type": "code",
      "source": [
        "# Chart - 13 visualization code"
      ],
      "metadata": {
        "id": "EUfxeq9-p1cl"
      },
      "execution_count": null,
      "outputs": []
    },
    {
      "cell_type": "markdown",
      "source": [
        "##### 1. Why did you pick the specific chart?"
      ],
      "metadata": {
        "id": "E6MkPsBcp1cl"
      }
    },
    {
      "cell_type": "markdown",
      "source": [
        "Answer Here."
      ],
      "metadata": {
        "id": "V22bRsFWp1cl"
      }
    },
    {
      "cell_type": "markdown",
      "source": [
        "##### 2. What is/are the insight(s) found from the chart?"
      ],
      "metadata": {
        "id": "2cELzS2fp1cl"
      }
    },
    {
      "cell_type": "markdown",
      "source": [
        "Answer Here"
      ],
      "metadata": {
        "id": "ozQPc2_Ip1cl"
      }
    },
    {
      "cell_type": "markdown",
      "source": [
        "##### 3. Will the gained insights help creating a positive business impact?\n",
        "Are there any insights that lead to negative growth? Justify with specific reason."
      ],
      "metadata": {
        "id": "3MPXvC8up1cl"
      }
    },
    {
      "cell_type": "markdown",
      "source": [
        "Answer Here"
      ],
      "metadata": {
        "id": "GL8l1tdLp1cl"
      }
    },
    {
      "cell_type": "markdown",
      "source": [
        "#### Chart - 14 - Correlation Heatmap"
      ],
      "metadata": {
        "id": "NC_X3p0fY2L0"
      }
    },
    {
      "cell_type": "code",
      "source": [
        "# Selecting only relevant numerical columns\n",
        "num_cols = ['iyear', 'nkill', 'property', 'propextent', 'ransompaid', 'casualties']\n",
        "\n",
        "# Compute correlation matrix\n",
        "corr_matrix = df[num_cols].corr()\n",
        "\n",
        "# Plot the heatmap with improved readability\n",
        "plt.figure(figsize=(8, 6))\n",
        "sns.heatmap(corr_matrix, annot=True, cmap='coolwarm', fmt=\".2f\", linewidths=0.5)\n",
        "plt.title(\"Correlation Heatmap of Key Numerical Variables\")\n",
        "plt.show()\n"
      ],
      "metadata": {
        "id": "OHJ7c_5JAl9O"
      },
      "execution_count": null,
      "outputs": []
    },
    {
      "cell_type": "markdown",
      "source": [
        "##### 1. Why did you pick the specific chart?"
      ],
      "metadata": {
        "id": "UV0SzAkaZNRQ"
      }
    },
    {
      "cell_type": "markdown",
      "source": [
        "**Answer-** A correlation heatmap is the best way to visualize relationships between multiple numerical variables in a dataset.\n",
        "Reasons for Choosing It:\n",
        "- Shows Strength of Relationships → Helps identify strong and weak correlations between variables.\n",
        "- Quickly Highlights Patterns → Uses color coding to make relationships easy to understand.\n",
        "- Identifies Redundant Variables → If two variables are highly correlated, one can be removed to avoid redundancy."
      ],
      "metadata": {
        "id": "DVPuT8LYZNRQ"
      }
    },
    {
      "cell_type": "markdown",
      "source": [
        "##### 2. What is/are the insight(s) found from the chart?"
      ],
      "metadata": {
        "id": "YPEH6qLeZNRQ"
      }
    },
    {
      "cell_type": "markdown",
      "source": [
        "**Answer-**\n",
        "- High correlation between nkill (killed) and nwound (wounded) → More fatalities lead to more injuries.\n",
        "- Casualties depend directly on nkill and nwound.\n",
        "- Property damage does not always mean high casualties (low correlation)."
      ],
      "metadata": {
        "id": "bfSqtnDqZNRR"
      }
    },
    {
      "cell_type": "markdown",
      "source": [
        "#### Chart - 15 - Pair Plot"
      ],
      "metadata": {
        "id": "q29F0dvdveiT"
      }
    },
    {
      "cell_type": "code",
      "source": [
        "# Selecting important numerical variables for the pair plot\n",
        "selected_columns = ['iyear', 'nkill', 'nwound', 'attacktype1', 'targtype1', 'weaptype1']\n",
        "df_selected = df[selected_columns]\n",
        "\n",
        "# Creating pair plot\n",
        "plt.figure(figsize=(12, 8))\n",
        "sns.pairplot(df_selected, diag_kind=\"kde\", plot_kws={'alpha':0.5, 's':10})\n",
        "\n",
        "# Show plot\n",
        "plt.show()"
      ],
      "metadata": {
        "id": "o58-TEIhveiU"
      },
      "execution_count": null,
      "outputs": []
    },
    {
      "cell_type": "markdown",
      "source": [
        "##### 1. Why did you pick the specific chart?"
      ],
      "metadata": {
        "id": "EXh0U9oCveiU"
      }
    },
    {
      "cell_type": "markdown",
      "source": [
        "**Answer-**\n",
        "1. Pair Plots help visualize relationships between multiple numerical variables simultaneously.\n",
        "2. Shows scatter plots for variable pairs and distribution of individual variables.\n",
        "3. Identifies patterns, correlations, and outliers effectively."
      ],
      "metadata": {
        "id": "eMmPjTByveiU"
      }
    },
    {
      "cell_type": "markdown",
      "source": [
        "##### 2. What is/are the insight(s) found from the chart?"
      ],
      "metadata": {
        "id": "22aHeOlLveiV"
      }
    },
    {
      "cell_type": "markdown",
      "source": [
        "**Answer-**\n",
        "1. Possible Correlations → If two variables show a linear pattern, they may be correlated.\n",
        "2. Outliers Detection → Some scatter points may indicate unusual behavior (e.g., extremely high casualties).\n",
        "3. Distribution Understanding → The diagonal plots (KDE) show how each variable is distributed."
      ],
      "metadata": {
        "id": "uPQ8RGwHveiV"
      }
    },
    {
      "cell_type": "markdown",
      "source": [
        "## **5. Solution to Business Objective**"
      ],
      "metadata": {
        "id": "JcMwzZxoAimU"
      }
    },
    {
      "cell_type": "markdown",
      "source": [
        "#### What do you suggest the client to achieve Business Objective ?\n",
        "Explain Briefly."
      ],
      "metadata": {
        "id": "8G2x9gOozGDZ"
      }
    },
    {
      "cell_type": "markdown",
      "source": [
        "**Answer-**\n",
        "\n",
        "####***Suggestion to the Client:***\n",
        "**Enhanced Security Measures:**\n",
        "- Focus on high-risk regions and time periods (based on EDA findings) to allocate security forces efficiently.\n",
        "- Implement AI-powered surveillance and predictive analytics to detect potential threats.\n",
        "\n",
        "**Policy and Law Enforcement:**\n",
        "- Strengthen policies against frequently used attack types and weapons to minimize damage.\n",
        "- Collaborate with international intelligence agencies for early threat detection.\n",
        "\n",
        "**Public Awareness & Emergency Response:**\n",
        "- Educate people in high-target areas about safety protocols.\n",
        "- Improve emergency response teams in regions with high casualties.\n",
        "\n",
        "**Investment in Technology & Cybersecurity:**\n",
        "- Use machine learning models to predict potential future attacks based on past data.\n",
        "- Secure digital communication channels to prevent cyber-terrorism threats.\n",
        "\n",
        "**Strategic Resource Allocation:**\n",
        "- Deploy resources where maximum damage occurs (based on casualty analysis).\n",
        "- Increase security at frequently attacked locations like government buildings and public places.\n",
        "\n",
        "####***Business Impact:***\n",
        "1. Risk Reduction: Proactive security can prevent attacks.\n",
        "2. Cost Efficiency: Optimized resource allocation reduces unnecessary spending.\n",
        "3. Public Safety: Improved response time and awareness lower casualties."
      ],
      "metadata": {
        "id": "pASKb0qOza21"
      }
    },
    {
      "cell_type": "markdown",
      "source": [
        "# **Conclusion**"
      ],
      "metadata": {
        "id": "gCX9965dhzqZ"
      }
    },
    {
      "cell_type": "markdown",
      "source": [
        "The United Nations Global Terrorism Analysis provided valuable insights into the patterns, causes, and impacts of terrorism worldwide. Through Exploratory Data Analysis (EDA), we identified key trends in attack types, target groups, casualties, and regional distribution.\n",
        "\n",
        "**Key Takeaways:**\n",
        "1. Most Common Attack Type: Bombing/Explosions are the most frequent and deadly.\n",
        "2. High-Risk Regions: Specific countries and cities face repeated attacks, demanding focused security measures.\n",
        "3. Casualty Insights: Certain attacks cause significantly higher casualties, requiring better emergency preparedness.\n",
        "4. Weapon Usage Trends: A few weapon types dominate, indicating a need for strict monitoring and regulation.\n",
        "\n",
        "By leveraging these findings, organizations and governments can implement targeted security strategies, allocate resources efficiently, and strengthen policies to combat terrorism. Proactive measures based on data-driven insights can significantly reduce the impact of terrorist activities."
      ],
      "metadata": {
        "id": "Fjb1IsQkh3yE"
      }
    },
    {
      "cell_type": "markdown",
      "source": [
        "### ***Hurrah! You have successfully completed your EDA Capstone Project !!!***"
      ],
      "metadata": {
        "id": "gIfDvo9L0UH2"
      }
    }
  ]
}